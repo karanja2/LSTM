{
  "cells": [
    {
      "cell_type": "markdown",
      "metadata": {
        "id": "42e9d729"
      },
      "source": [
        "# Assignment 4: Training Transformers in PyTorch\n",
        "\n",
        "*Author:* Thomas Adler\n",
        "\n",
        "*Copyright statement:* This  material,  no  matter  whether  in  printed  or  electronic  form,  may  be  used  for  personal  and non-commercial educational use only.  Any reproduction of this manuscript, no matter whether as a whole or in parts, no matter whether in printed or in electronic form, requires explicit prior acceptance of the authors.\n",
        "\n",
        "In this assignment we will implement and train a small transformer model and compare it to the LSTM in the previous assignment."
      ],
      "id": "42e9d729"
    },
    {
      "cell_type": "markdown",
      "metadata": {
        "id": "7089693e"
      },
      "source": [
        "## Exercise 1: Causal Self-Attention\n",
        "\n",
        "Write a class named `CausalSelfAttention` that derives from `nn.Module` and whose `__init__` method takes (apart from the trivial `self`) one argument `hidden_size`. Implement a method `forward` that takes an input sequence `x` of shape $(N, T, D)$ (where $N$ is batch size, $T$ is sequence length, $D$ is hidden size) and performs scaled dot-product self-attention, i.e.,\n",
        "$$\n",
        "Y = \\operatorname{softmax}\\left(\\frac{1}{\\sqrt{D}} Q K^\\top\\right) V,\n",
        "$$\n",
        "where $Q = X W_Q$ and $K = X W_K$ and $V = X W_V$ and $X \\in \\mathbb{R}^{T \\times D}$ and $W_Q, W_K, W_V \\in \\mathbb{R}^{D \\times D}$ and softmax is applied in a row-wise manner and neglecting bias units.\n",
        "It is called self-attention because $Q, K, V$ are all computed from the same input $X$, which hence attends to itself.\n",
        "\n",
        "To have the attention be *causal* we need to make sure that we do not allow peeks into the future. That is, the output at time $t$ must be a function of the input at times $1, \\dots, t$ but no further. The score matrix $E = \\frac{1}{\\sqrt{D}} Q K^\\top$ has a shape of $T \\times T$ and the entry $e_{ij}$ measures how strong the query at time $i$ attends to the key at time $j$. Therefore, positions where $j > i$ constitute peeks into the future and we have to set the corresponding attention values (i.e., the softmax-activated score) to zero. We can do that by setting the corresponding score to `float('-inf')`, which has the advantage that the normalization is adjusted automatically by the softmax."
      ],
      "id": "7089693e"
    },
    {
      "cell_type": "code",
      "execution_count": 66,
      "metadata": {
        "id": "d28afb0e"
      },
      "outputs": [],
      "source": [
        "import torch\n",
        "import torch.nn as nn\n",
        "import torch.nn.functional as F\n",
        "import numpy as np\n",
        "import math\n",
        "import time\n",
        "import sklearn\n",
        "import matplotlib\n",
        "\n",
        "\n",
        "class CausalSelfAttention(nn.Module):\n",
        "    def __init__(self, hidden_size):\n",
        "        super(CausalSelfAttention, self).__init__()\n",
        "        self.hidden_size = hidden_size\n",
        "\n",
        "    def forward(self, x):\n",
        "        # x has shape (N, T, D)\n",
        "        Q = torch.matmul(x, WQ)\n",
        "        K = torch.matmul(x, WK)\n",
        "        V = torch.matmul(x, WV)\n",
        "        # Scaled dot-product self-attention\n",
        "        Y = torch.softmax(torch.matmul(Q, K.transpose(-1, -2)) / math.sqrt(self.hidden_size), dim=-1)\n",
        "        # Compute the output\n",
        "        Z = torch.matmul(Y, V)\n",
        "        return Z\n",
        "\n"
      ],
      "id": "d28afb0e"
    },
    {
      "cell_type": "markdown",
      "metadata": {
        "id": "262ee970"
      },
      "source": [
        "## Exercise 2: Multi-Head Attention\n",
        "\n",
        "Write a class `MultiHeadCausalSelfAttention` that derives from `nn.Module` and extends the functionality of `CausalSelfAttention` from the previous exercise.\n",
        "The `__init__` method takes arguments `hidden_size, n_head, dropout`. `n_head` specifies the number of attention heads and `dropout` specifies the intensity for the dropout layers.\n",
        "The `forward` method should split the hidden dimension of the pre-activations (i.e., $Q, K, V$) in `n_head` equally sized parts and perform attention to these parts in parallel.\n",
        "Apply the first dropout layer direcly after the softmax.\n",
        "After the multiplication of the scores with the values, recombine the output of the distinct attention heads back into a single hidden dimension of size $D$, i.e., the resulting shape should be the shape of the input.\n",
        "Then perform an additional output projection again resulting in a hidden dimension of $D$.\n",
        "Finally, apply the second dropout layer after the output projection."
      ],
      "id": "262ee970"
    },
    {
      "cell_type": "code",
      "execution_count": 2,
      "metadata": {
        "id": "ddee2d25"
      },
      "outputs": [],
      "source": [
        "class MultiHeadCausalSelfAttention(nn.Module):\n",
        "    def __init__(self, hidden_size, n_head, dropout):\n",
        "        super(MultiHeadCausalSelfAttention, self).__init__()\n",
        "        self.hidden_size = hidden_size\n",
        "        self.n_head = n_head\n",
        "        self.dropout = nn.Dropout(dropout)\n",
        "        self.WQ = nn.Linear(hidden_size, hidden_size * n_head)\n",
        "        self.WK = nn.Linear(hidden_size, hidden_size * n_head)\n",
        "        self.WV = nn.Linear(hidden_size, hidden_size * n_head)\n",
        "        self.WO = nn.Linear(hidden_size * n_head, hidden_size)\n",
        "\n",
        "    def forward(self, x):\n",
        "        # x has shape (N, T, D)\n",
        "        N, T, D = x.shape\n",
        "        Q = self.WQ(x).view(N, T, self.n_head, D).transpose(1, 2)  # (N, n_head, T, D)\n",
        "        K = self.WK(x).view(N, T, self.n_head, D).transpose(1, 2)  # (N, n_head, T, D)\n",
        "        V = self.WV(x).view(N, T, self.n_head, D).transpose(1, 2)  # (N, n_head, T, D)\n",
        "        # Scaled dot-product self-attention\n",
        "        Y = torch.softmax(torch.matmul(Q, K.transpose(-1, -2)) / math.sqrt(self.hidden_size), dim=-1)\n",
        "        Y = self.dropout(Y)\n",
        "        # Compute the output\n",
        "        Z = torch.matmul(Y, V)\n",
        "        Z = Z.transpose(1, 2).contiguous().view(N, T, self.hidden_size * self.n_head)\n",
        "        Z = self.WO(Z)\n",
        "        Z = self.dropout(Z)\n",
        "        return Z\n"
      ],
      "id": "ddee2d25"
    },
    {
      "cell_type": "markdown",
      "metadata": {
        "id": "f81b329d"
      },
      "source": [
        "## Exercise 3: Multi-Layer Perceptron\n",
        "\n",
        "Write a class `MLP` that derives from `nn.Module` and whose `__init__` method takes two arguments: `hidden_size` and `dropout`.\n",
        "It should implement a 2-layer feedforward network with `hidden_size` inputs, `4*hidden_size` hiddens, and `hidden_size` outputs.\n",
        "It should apply the GELU activation function to the hiddens and dropout to the outputs."
      ],
      "id": "f81b329d"
    },
    {
      "cell_type": "code",
      "execution_count": 3,
      "metadata": {
        "id": "7ca16758"
      },
      "outputs": [],
      "source": [
        "class MLP(nn.Module):\n",
        "    def __init__(self, hidden_size, dropout):\n",
        "        super(MLP, self).__init__()\n",
        "        self.fc1 = nn.Linear(hidden_size, 4 * hidden_size)\n",
        "        self.fc2 = nn.Linear(4 * hidden_size, hidden_size)\n",
        "        self.dropout = nn.Dropout(dropout)\n",
        "\n",
        "    def forward(self, x):\n",
        "        x = F.gelu(self.fc1(x))\n",
        "        x = self.dropout(x)\n",
        "        x = self.fc2(x)\n",
        "        return x\n"
      ],
      "id": "7ca16758"
    },
    {
      "cell_type": "markdown",
      "metadata": {
        "id": "55645751"
      },
      "source": [
        "## Exercise 4: Block\n",
        "\n",
        "Write a class `Block` that derives from `nn.Module` and whose `__init__` method takes arguments `hidden_size, n_head, dropout`.\n",
        "It should apply `nn.LayerNorm`, `CausalMultiHeadSelfAttention`, `nn.LayerNorm`, `MLP` in that order and feature residual connections from the input to the output of `CausalMultiHeadSelfAttention` and from there to the output of `MLP`."
      ],
      "id": "55645751"
    },
    {
      "cell_type": "code",
      "execution_count": 4,
      "metadata": {
        "id": "8b7b62df"
      },
      "outputs": [],
      "source": [
        "class Block(nn.Module):\n",
        "    def __init__(self, hidden_size, n_head, dropout):\n",
        "        super(Block, self).__init__()\n",
        "        self.norm1 = nn.LayerNorm(hidden_size)\n",
        "        self.attention = MultiHeadCausalSelfAttention(hidden_size, n_head, dropout)\n",
        "        self.norm2 = nn.LayerNorm(hidden_size)\n",
        "        self.mlp = MLP(hidden_size, dropout)\n",
        "\n",
        "    def forward(self, x):\n",
        "        # Feature residual connection from input to output of attention\n",
        "        y = self.attention(self.norm1(x)) + x\n",
        "        # Feature residual connection from input to output of MLP\n",
        "        z = self.mlp(self.norm2(y)) + y\n",
        "        return z\n",
        "\n"
      ],
      "id": "8b7b62df"
    },
    {
      "cell_type": "markdown",
      "metadata": {
        "id": "138b7022"
      },
      "source": [
        "## Exercise 5: GPT\n",
        "\n",
        "Write a class `GPT` that derives from `nn.Module` and whose `__init__` method takes arguments `vocab_size, context_size, hidden_size, n_layer, n_head, dropout`.\n",
        "The `forward` method should take two arguments `x, y` representing sequences of input and target tokens, respectively, both of which have type `torch.long` and shape ($N$, $T$), and returns logits and loss as a tuple.\n",
        "The `GPT` module should feature two `nn.Embedding` layers, one for token embeddings and one for positional embedding, i.e., it should embed the position of the corresponding token within the input sequence.\n",
        "The positional embedding is necessary for the Transformer to determine the order of its inputs.\n",
        "Add the two embeddings and apply a dropout layer.\n",
        "Next, apply `n_layers` layers of `Block`s followed by a `nn.LayerNorm` and a `nn.Linear` (without bias) mapping to an output dimension of `vocab_size`.\n",
        "Finally, apply the cross-entropy loss function to the logits.\n",
        "To save some parameters, apply weight tying between the token embedding layer and the output layer, i.e., they should use the same weights.\n",
        "Initialize all weights using a normal distribution with a mean of zero and a standard deviation of 0.02 (except for the output layers of the `MLP`s use $0.02/\\sqrt{2 * \\mathtt{n\\_layer}}$) and all biases to zero.\n",
        "Use the argument `dropout` as intensity for all dropout layers in the network."
      ],
      "id": "138b7022"
    },
    {
      "cell_type": "code",
      "execution_count": 62,
      "metadata": {
        "id": "cbe14a03"
      },
      "outputs": [],
      "source": [
        "class GPT(nn.Module):\n",
        "    def __init__(self, vocab_size, context_size, hidden_size, n_layer, n_head, dropout):\n",
        "        super(GPT, self).__init__()\n",
        "        self.vocab_size = vocab_size\n",
        "        self.context_size = context_size\n",
        "        self.hidden_size = hidden_size\n",
        "        self.n_layer = n_layer\n",
        "        self.n_head = n_head\n",
        "        self.dropout = nn.Dropout(dropout)\n",
        "        self.token_embedding = nn.Embedding(vocab_size, hidden_size)\n",
        "        self.positional_embedding = nn.Embedding(context_size, hidden_size)\n",
        "        self.blocks = nn.ModuleList([Block(hidden_size, n_head, dropout) for _ in range(n_layer)])\n",
        "        self.layer_norm = nn.LayerNorm(hidden_size)\n",
        "        self.output = nn.Linear(hidden_size, vocab_size)\n",
        "\n",
        "        self._init_weights()\n",
        "\n",
        "    def forward(self, x, y):\n",
        "        # Token and positional embeddings\n",
        "        token_embedded = self.token_embedding(x)\n",
        "        position_embedded = self.positional_embedding(torch.arange(x.shape[1], device=x.device))\n",
        "        x = self.dropout(token_embedded + position_embedded)\n",
        "\n",
        "        # Blocks\n",
        "        for block in self.blocks:\n",
        "            x = block(x)\n",
        "\n",
        "        # Layer norm and output linear layer\n",
        "        x = self.layer_norm(x)\n",
        "        logits = self.output(x)\n",
        "\n",
        "        # Compute the loss\n",
        "        loss = nn.CrossEntropyLoss()(logits.view(-1, self.vocab_size), y.view(-1))\n",
        "        return logits, loss\n",
        "\n",
        "    def _init_weights(self):\n",
        "        # Token embedding and output layers weight tying\n",
        "        self.output.weight = self.token_embedding.weight\n",
        "        self.output.bias.data.zero_()\n",
        "\n",
        "        # Initialize other weights and biases\n",
        "        for module in self.modules():\n",
        "            if isinstance(module, (nn.Linear, nn.Embedding)):\n",
        "                module.weight.data.normal_(mean=0.0, std=0.02)\n",
        "                if isinstance(module, nn.Linear) and module.bias is not None:\n",
        "                    module.bias.data.zero_()\n",
        "            elif isinstance(module, nn.LayerNorm):\n",
        "                module.bias.data.zero_()\n",
        "                module.weight.data.fill_(1.0)\n"
      ],
      "id": "cbe14a03"
    },
    {
      "cell_type": "markdown",
      "metadata": {
        "id": "fcdc12d6"
      },
      "source": [
        "## Exercise 6: Optimizer\n",
        "\n",
        "Add a method `configure_optimizers` to the class `GPT` that takes arguments `weight_decay, learning_rate, betas`.\n",
        "Divide the model parameters into two groups.\n",
        "The first group consists of all parameters with at least 2 dimensions, e.g., weight/embedding matrices and uses a decay of `weight_decay`.\n",
        "The second group consists of all other parameters, e.g., biases and layer norms, and does not use weight decay.\n",
        "Construct and return a `torch.optim.AdamW` optimizer with `learning_rate` and `betas` that operates on these two parameter groups."
      ],
      "id": "fcdc12d6"
    },
    {
      "cell_type": "code",
      "execution_count": 58,
      "metadata": {
        "id": "7e8be375"
      },
      "outputs": [],
      "source": [
        "import torch.optim as optim\n",
        "\n",
        "class GPT(nn.Module):\n",
        "\n",
        "    def configure_optimizers(self):\n",
        "        weight_decay = 0.01\n",
        "        learning_rate = 0.001\n",
        "        betas = (0.9, 0.999)\n",
        "        no_decay = ['bias', 'LayerNorm.weight']\n",
        "        optimizer_grouped_parameters = [\n",
        "            {'params': [p for n, p in self.named_parameters() if not any(nd in n for nd in no_decay)], 'weight_decay': weight_decay},\n",
        "            {'params': [p for n, p in self.named_parameters() if any(nd in n for nd in no_decay)], 'weight_decay': 0.0}\n",
        "        ]\n",
        "        optimizer = optim.AdamW(optimizer_grouped_parameters, lr=learning_rate, betas=betas)\n",
        "        return optimizer\n"
      ],
      "id": "7e8be375"
    },
    {
      "cell_type": "markdown",
      "metadata": {
        "id": "96a1b472"
      },
      "source": [
        "## Exercise 7: Training\n",
        "\n",
        "In the code cell below you find some globals, helper functions, and boilerplate code. Extend the given code by a training loop that\n",
        "* stops after `max_iters` iterations\n",
        "* applies the learning rate schedule implemented in `get_lr`\n",
        "* applies gradient clipping at `grad_clip` using `torch.nn.utils.clip_grad_norm_`\n",
        "* accumulates gradients for `gradient_accumulation_steps` batches before each weight update\n",
        "* logs the training loss and learning rate every `log_interval` iterations\n",
        "* evaluates (and potentially checkpoints) the model using `estimate_loss` every `eval_iters` iterations.\n",
        "\n",
        "The provided hyperparameter values should be a good guess for training a tiny model on CPU but feel free to experiment with them as you please. In particular, if you have a GPU available, you can try to scale things up a bit."
      ],
      "id": "96a1b472"
    },
    {
      "cell_type": "code",
      "execution_count": 71,
      "metadata": {
        "colab": {
          "base_uri": "https://localhost:8080/"
        },
        "id": "641a76a3",
        "outputId": "fdc001e1-3f37-4305-aa95-2eb02b18026c"
      },
      "outputs": [
        {
          "output_type": "stream",
          "name": "stdout",
          "text": [
            "Iteration 0, Loss: 0.09268394112586975, Learning Rate: 0.0\n",
            "Iteration 0, Validation Loss: 3.7201905250549316\n",
            "Iteration 10, Loss: 0.09268394112586975, Learning Rate: 0.0001\n",
            "Iteration 20, Loss: 0.09268394112586975, Learning Rate: 0.0002\n",
            "Iteration 30, Loss: 0.09268394112586975, Learning Rate: 0.0003\n",
            "Iteration 40, Loss: 0.09136929363012314, Learning Rate: 0.0004\n",
            "Iteration 50, Loss: 0.09136929363012314, Learning Rate: 0.0005\n"
          ]
        }
      ],
      "source": [
        "eval_interval = 250 # validate model every .. iterations\n",
        "log_interval = 10 # log training loss every .. iterations\n",
        "eval_iters = 20 # number of batches for loss estimation\n",
        "gradient_accumulation_steps = 5 * 8 # used to simulate larger training batch sizes\n",
        "batch_size = 12 # if gradient_accumulation_steps > 1, this is the micro-batch size\n",
        "context_size = 64 # sequence length\n",
        "vocab = 'abcdefghijklmnopqrstuvwxyz0123456789 .!?' # vocabulary\n",
        "vocab_size = len(vocab) # 40\n",
        "n_layer = 4 # number of layers\n",
        "n_head = 4 # number of attention heads\n",
        "hidden_size = 128 # layer size\n",
        "dropout = 0.0 # for pretraining 0 is good, for finetuning try 0.1+\n",
        "learning_rate = 1e-3 # max learning rate\n",
        "max_iters = 2000 # total number of training iterations\n",
        "weight_decay = 1e-1\n",
        "beta1 = 0.9 # for AdamW\n",
        "beta2 = 0.99 # for AdamW\n",
        "grad_clip = 1.0 # clip gradients at this value, or disable with 0.0\n",
        "warmup_iters = 100 # how many steps to warm up for\n",
        "min_lr = 1e-4 # minimum learning rate, usually ~= learning_rate/10\n",
        "\n",
        "# learning rate decay scheduler (cosine with warmup)\n",
        "def get_lr(it):\n",
        "    # 1) linear warmup for warmup_iters steps\n",
        "    if it < warmup_iters:\n",
        "        return learning_rate * it / warmup_iters\n",
        "    # 2) if it > max_iters, return min learning rate\n",
        "    if it > max_iters:\n",
        "        return min_lr\n",
        "    # 3) in between, use cosine decay down to min learning rate\n",
        "    decay_ratio = (it - warmup_iters) / (max_iters - warmup_iters)\n",
        "    assert 0 <= decay_ratio <= 1\n",
        "    coeff = 0.5 * (1.0 + math.cos(math.pi * decay_ratio)) # coeff ranges 0..1\n",
        "    return min_lr + coeff * (learning_rate - min_lr)\n",
        "\n",
        "def load_data(split):\n",
        "    import re\n",
        "\n",
        "    with open(f'trump_{split}.txt', 'r') as f:\n",
        "        text = f.read()\n",
        "\n",
        "    text = text.lower() # convert to lower case\n",
        "    text = re.sub('[^a-z0-9 .!?]', ' ', text) # replace all unknown chars with ' '\n",
        "    text = re.sub(' +', ' ', text) # reduce multiple blanks to one\n",
        "    text = [vocab.index(t) for t in text]\n",
        "    text = torch.tensor(text, dtype=torch.long)\n",
        "    return text\n",
        "\n",
        "def get_batch(split):\n",
        "    data = train_data if split == 'train' else val_data\n",
        "    ix = torch.randint(len(data) - context_size, (batch_size,))\n",
        "    x = torch.stack([data[i:i+context_size] for i in ix])\n",
        "    y = torch.stack([data[i+1:i+1+context_size] for i in ix])\n",
        "    return x, y\n",
        "\n",
        "# helps estimate an arbitrarily accurate loss over either split using many batches\n",
        "@torch.no_grad()\n",
        "def estimate_loss():\n",
        "    out = {}\n",
        "    model.eval()\n",
        "    for split in ['train', 'val']:\n",
        "        losses = torch.zeros(eval_iters)\n",
        "        for k in range(eval_iters):\n",
        "            X, Y = get_batch(split)\n",
        "            logits, loss = model(X, Y)\n",
        "            losses[k] = loss.item()\n",
        "        out[split] = losses.mean()\n",
        "    model.train()\n",
        "    return out\n",
        "\n",
        "# data, model, optimizer, etc.\n",
        "train_data = load_data('train')\n",
        "val_data = load_data('val')\n",
        "train_data = load_data('train')\n",
        "val_data = load_data('val')\n",
        "model = GPT(vocab_size, context_size, hidden_size, n_layer, n_head, dropout)\n",
        "optimizer = torch.optim.AdamW(model.parameters(), lr=learning_rate, betas=(beta1, beta2), weight_decay=weight_decay)\n",
        "\n",
        "# Initialize other necessary variables\n",
        "iter_num = 0\n",
        "best_val_loss = 1e9\n",
        "X, Y = get_batch('train') # Fetch the very first batch\n",
        "t0 = time.time()\n",
        "\n",
        "\n",
        "# Training loop\n",
        "for iteration in range(max_iters):\n",
        "    # Forward pass and loss calculation\n",
        "    logits, loss = model(X, Y)\n",
        "    loss = loss / gradient_accumulation_steps  # Normalize the loss for gradient accumulation\n",
        "    loss.backward()\n",
        "\n",
        "    # Accumulate gradients for a certain number of iterations before the weight update\n",
        "    if (iteration + 1) % gradient_accumulation_steps == 0:\n",
        "        # Learning rate scheduling\n",
        "        lr = get_lr(iteration)\n",
        "        for param_group in optimizer.param_groups:\n",
        "            param_group['lr'] = lr\n",
        "\n",
        "        # Gradient clipping\n",
        "        if grad_clip > 0.0:\n",
        "             torch.nn.utils.clip_grad_norm_(model.parameters(), grad_clip)\n",
        "\n",
        "        # Weight update\n",
        "        optimizer.step()\n",
        "        optimizer.zero_grad()\n",
        "\n",
        "    # Log the training loss and learning rate every log_interval iterations\n",
        "    if iteration % log_interval == 0:\n",
        "        print(f\"Iteration {iteration}, Loss: {loss.item()}, Learning Rate: {get_lr(iteration)}\")\n",
        "\n",
        "    # Validate the model and potentially checkpoint every eval_iters iterations\n",
        "    if iteration % eval_interval == 0:\n",
        "        val_loss = estimate_loss()['val']\n",
        "        print(f\"Iteration {iteration}, Validation Loss: {val_loss}\")\n",
        "\n",
        "    # Stop execution after a few attempts (for demonstration purposes)\n",
        "    if iteration >= 50:\n",
        "\n",
        "        break\n",
        "\n",
        "\n"
      ],
      "id": "641a76a3"
    },
    {
      "cell_type": "markdown",
      "metadata": {
        "id": "7b4f0e3c"
      },
      "source": [
        "## Exercise 8: Inference\n",
        "\n",
        "Add a method `generate` to the class `GPT` that takes arguments `x, max_new_tokens, temperature=1.0`.\n",
        "The method should take a batch of token sequences `x`, which it should extend by `max_new_tokens` new tokens generated by the model.\n",
        "Once you have computed the logits for the next token, divide them by `temperature` before applying the softmax.\n",
        "After applying the softmax, sample the next token from the resulting categorical distribution.\n",
        "Try out different values for `temperature` and compare the results to those from the previous assignment."
      ],
      "id": "7b4f0e3c"
    },
    {
      "cell_type": "code",
      "execution_count": 72,
      "metadata": {
        "id": "595e921b"
      },
      "outputs": [],
      "source": [
        "class GPT(nn.Module):\n",
        "\n",
        "    def generate(self, x, max_new_tokens, temperature=1.0):\n",
        "        self.eval()  # Put the model in evaluation mode\n",
        "\n",
        "        generated_tokens = []  # To store generated tokens\n",
        "\n",
        "        with torch.no_grad():\n",
        "            for _ in range(max_new_tokens):\n",
        "                logits = self.forward(x)[:, -1, :] / temperature  # Compute logits for the next token\n",
        "\n",
        "                # Apply softmax to logits and sample the next token\n",
        "                probs = F.softmax(logits, dim=-1)\n",
        "                next_token = torch.multinomial(probs, num_samples=1)\n",
        "\n",
        "                # Extend the input sequence with the sampled token\n",
        "                x = torch.cat([x, next_token], dim=-1)\n",
        "                generated_tokens.append(next_token.item())  # Store the generated token\n",
        "\n",
        "                print('Generated Token:', next_token.item())  # Display the generated token\n",
        "\n",
        "        return x, generated_tokens\n",
        "\n"
      ],
      "id": "595e921b"
    },
    {
      "cell_type": "code",
      "execution_count": null,
      "metadata": {
        "id": "c504f763"
      },
      "outputs": [],
      "source": [],
      "id": "c504f763"
    }
  ],
  "metadata": {
    "colab": {
      "provenance": []
    },
    "kernelspec": {
      "display_name": "Python 3 (ipykernel)",
      "language": "python",
      "name": "python3"
    },
    "language_info": {
      "codemirror_mode": {
        "name": "ipython",
        "version": 3
      },
      "file_extension": ".py",
      "mimetype": "text/x-python",
      "name": "python",
      "nbconvert_exporter": "python",
      "pygments_lexer": "ipython3",
      "version": "3.10.11"
    }
  },
  "nbformat": 4,
  "nbformat_minor": 5
}